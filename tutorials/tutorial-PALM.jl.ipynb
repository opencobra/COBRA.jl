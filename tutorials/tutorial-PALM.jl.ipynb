{
 "cells": [
  {
   "cell_type": "markdown",
   "metadata": {},
   "source": [
    "# Tutorial - PALM.jl"
   ]
  },
  {
   "cell_type": "markdown",
   "metadata": {},
   "source": [
    "This tutorial serves as a reference to get started with `PALM.jl`. Download the live notebook from [here](https://github.com/opencobra/COBRA.jl/tree/master/tutorials).\n",
    "\n",
    "If you are not familiar with `COBRA.jl`, or how `COBRA.jl` should be installed, please refer to the tutorial on `COBRA.jl`.\n",
    "\n",
    "**Note:** In order to run this tutorial, you must have [MATLAB](https://www.mathworks.com) installed and a valid MATLAB license.\n",
    "\n",
    "Please make sure to have the following packages installed: `COBRA.jl`, `MATLAB`, and `MAT`."
   ]
  },
  {
   "cell_type": "code",
   "execution_count": null,
   "metadata": {},
   "outputs": [],
   "source": [
    "#=\n",
    "Pkg.add(\"COBRA\")\n",
    "Pkg.add(\"MATLAB\")\n",
    "=#"
   ]
  },
  {
   "cell_type": "markdown",
   "metadata": {},
   "source": [
    "## Writing a MATLAB script"
   ]
  },
  {
   "cell_type": "markdown",
   "metadata": {},
   "source": [
    "The main functionality of `PALM.jl` is to run a MATLAB script that loads a different model each time from a directory of models. The MATLAB script can be based on any tutorial of [the CORBA Toolbox](https://git.io/cobratoolbox) or on a custom script.\n",
    "\n",
    "In order to illustrate the inner workings of `PALM.jl`, we will write a custom script that loads a different model out of a folder of 4 models, and calculates several numerical characteristics of the stoichiometric matrix. The analysis is accelerated by distributing these 4 models across 2 different workers.\n",
    "\n",
    "The MATLAB script can be saved as `scriptFile.m` in any folder. For illustration purposes, this script is located in the `test/` folder of the COBRA.jl installation directory, but may be located in any other directory. Its content can be visualized as follows:"
   ]
  },
  {
   "cell_type": "code",
   "execution_count": null,
   "metadata": {},
   "outputs": [],
   "source": [
    "run(`cat $(Pkg.dir(\"COBRA\"))/test/scriptFile.m`)"
   ]
  },
  {
   "cell_type": "markdown",
   "metadata": {},
   "source": [
    "Note that the variables marked with `PALM_` are the ones defined within Julia."
   ]
  },
  {
   "cell_type": "markdown",
   "metadata": {},
   "source": [
    "## Installation of the COBRA Toolbox"
   ]
  },
  {
   "cell_type": "markdown",
   "metadata": {},
   "source": [
    "As the `scriptFile.m` refers to the `readCbModel` function implemented in [the COBRA Toolbox](https://git.io/cobratoolbox), the COBRA Toolbox must be installed by following the installation instructions [here](https://opencobra.github.io/cobratoolbox/stable/installation.html).\n",
    "\n",
    "If you already have a working installation of the COBRA Toolbox, you may skip the following lines. The COBRA Toolbox may be installed in any directory - please write it down for later use in this tutorial.\n",
    "\n",
    "**Advanced users** may also want to install the COBRA Toolbox directly installed from Julia. You must have `git` (or `gitBash` on Windows) installed - see [requirements](https://opencobra.github.io/cobratoolbox/stable/installation.html#system-requirements).\n",
    "\n",
    "For illustration purposes of this tutorial, the COBRA Toolbox will be installed in the `~/tmp` directory. This may take a while, depending on the speed of your internet connection."
   ]
  },
  {
   "cell_type": "code",
   "execution_count": null,
   "metadata": {},
   "outputs": [],
   "source": [
    "installDir = \"~/tmp/cobratoolbox\""
   ]
  },
  {
   "cell_type": "code",
   "execution_count": null,
   "metadata": {},
   "outputs": [],
   "source": [
    "# if you already ran this tutorial once, you may also remove the previous installation directory with the following command:\n",
    "# Note: The following command removes the directory specified above!\n",
    "run(`rm -rf $installDir`)"
   ]
  },
  {
   "cell_type": "code",
   "execution_count": null,
   "metadata": {},
   "outputs": [],
   "source": [
    "run(`git clone --depth=1 --recurse-submodules https://github.com/opencobra/cobratoolbox.git $installDir`);\n",
    "info(\"The COBRA Toolbox has been cloned successfully to the $installDir directory.\")"
   ]
  },
  {
   "cell_type": "markdown",
   "metadata": {},
   "source": [
    "**Tip:** When using `PALM.jl`, it is advised to add the `--recurse-submodules` flag. This will speed up the simultaneous initialisations on several workers."
   ]
  },
  {
   "cell_type": "markdown",
   "metadata": {},
   "source": [
    "## Connecting workers"
   ]
  },
  {
   "cell_type": "markdown",
   "metadata": {},
   "source": [
    "Similarly to `distributedFBA.jl`, the workers may be added using `createPool`, given in the external function `connect.jl`, which must be included separately. Please note that also workers connected via SSH may be added to the pool of workers."
   ]
  },
  {
   "cell_type": "code",
   "execution_count": null,
   "metadata": {},
   "outputs": [],
   "source": [
    "include(\"$(Pkg.dir(\"COBRA\"))/src/connect.jl\")"
   ]
  },
  {
   "cell_type": "code",
   "execution_count": null,
   "metadata": {},
   "outputs": [],
   "source": [
    "# specify the total number of parallel workers\n",
    "nWorkers = 4 \n",
    "\n",
    "# create a parallel pool\n",
    "workersPool, nWorkers = createPool(nWorkers) "
   ]
  },
  {
   "cell_type": "markdown",
   "metadata": {},
   "source": [
    "After initializing the workers, the packages must be loaded on each worker:"
   ]
  },
  {
   "cell_type": "code",
   "execution_count": null,
   "metadata": {},
   "outputs": [],
   "source": [
    "@everywhere using COBRA\n",
    "@everywhere using MATLAB"
   ]
  },
  {
   "cell_type": "markdown",
   "metadata": {},
   "source": [
    "## Sharing the load"
   ]
  },
  {
   "cell_type": "markdown",
   "metadata": {},
   "source": [
    "Within `PALM.jl`, the load is shared automatically. However, it might be illustrative to check upfront when planning a large-scale simulation how the load will be shared. For this purpose, the `shareLoad` function within the `COBRA.jl` package may be used.\n",
    "\n",
    "If there are 4 models to be distributed across 4 workers, the load sharing is ideal, as every worker will run 1 model."
   ]
  },
  {
   "cell_type": "code",
   "execution_count": null,
   "metadata": {},
   "outputs": [],
   "source": [
    "nWorkers, quotientModels, remainderModels = COBRA.shareLoad(4)"
   ]
  },
  {
   "cell_type": "markdown",
   "metadata": {},
   "source": [
    "In case of sharing 6 models across the connected 4 workers, the load sharing will not be ideal:"
   ]
  },
  {
   "cell_type": "code",
   "execution_count": null,
   "metadata": {},
   "outputs": [],
   "source": [
    "nWorkers, quotientModels, remainderModels = COBRA.shareLoad(6)"
   ]
  },
  {
   "cell_type": "markdown",
   "metadata": {},
   "source": [
    "## Preparing the models\n",
    "\n",
    "In order to illustrate how several models can be loaded, the models included in the COBRA Toolbox may be used. The list of models may be displayed using:"
   ]
  },
  {
   "cell_type": "code",
   "execution_count": null,
   "metadata": {},
   "outputs": [],
   "source": [
    "modelDir = \"$installDir/test/models/mat\"\n",
    "readdir(modelDir)"
   ]
  },
  {
   "cell_type": "markdown",
   "metadata": {},
   "source": [
    "## Output variables"
   ]
  },
  {
   "cell_type": "markdown",
   "metadata": {},
   "source": [
    "The variables that should be retrieved from the script (see `scriptFile.m`) can be defined in an array as follows:"
   ]
  },
  {
   "cell_type": "code",
   "execution_count": null,
   "metadata": {},
   "outputs": [],
   "source": [
    "varsCharact = [\"nMets\", \"nRxns\", \"nElem\", \"nNz\"]"
   ]
  },
  {
   "cell_type": "markdown",
   "metadata": {},
   "source": [
    "**Note:** The variable names defined in `varsCharac` are the same as in the MATLAB script."
   ]
  },
  {
   "cell_type": "markdown",
   "metadata": {},
   "source": [
    "## Running PALM"
   ]
  },
  {
   "cell_type": "markdown",
   "metadata": {},
   "source": [
    "The input parameters of `PALM.jl` are defined as:"
   ]
  },
  {
   "cell_type": "code",
   "execution_count": null,
   "metadata": {},
   "outputs": [],
   "source": [
    "? PALM"
   ]
  },
  {
   "cell_type": "markdown",
   "metadata": {},
   "source": [
    "Now, all variables are defined, and `PALM.jl` is ready to be launched:"
   ]
  },
  {
   "cell_type": "code",
   "execution_count": null,
   "metadata": {},
   "outputs": [],
   "source": [
    "PALM(modelDir, \"$(Pkg.dir(\"COBRA\"))/test/scriptFile.m\", nWorkers, \"modelCharacteristics.mat\", varsCharact, installDir)"
   ]
  },
  {
   "cell_type": "markdown",
   "metadata": {},
   "source": [
    "The output file that contains the values of the variables defined in `varsCharact` for each model is `modelCharacteristics.mat`. This file can be read back into Julia by using:"
   ]
  },
  {
   "cell_type": "code",
   "execution_count": null,
   "metadata": {},
   "outputs": [],
   "source": [
    "using MAT\n",
    "vars = matread(\"modelCharacteristics.mat\")"
   ]
  },
  {
   "cell_type": "markdown",
   "metadata": {},
   "source": [
    "The full data set can be retrieved with: "
   ]
  },
  {
   "cell_type": "code",
   "execution_count": null,
   "metadata": {},
   "outputs": [],
   "source": [
    "summaryData = vars[\"summaryData\"]"
   ]
  }
 ],
 "metadata": {
  "anaconda-cloud": {},
  "kernelspec": {
   "display_name": "Julia 0.6.4",
   "language": "julia",
   "name": "julia-0.6"
  },
  "language_info": {
   "file_extension": ".jl",
   "mimetype": "application/julia",
   "name": "julia",
   "version": "0.6.4"
  }
 },
 "nbformat": 4,
 "nbformat_minor": 1
}
